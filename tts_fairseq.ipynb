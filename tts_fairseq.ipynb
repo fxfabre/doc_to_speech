{
 "cells": [
  {
   "cell_type": "code",
   "execution_count": null,
   "id": "da46a341-f1a0-4bfa-8b99-53535f877ac9",
   "metadata": {
    "scrolled": true
   },
   "outputs": [],
   "source": [
    "from fairseq.checkpoint_utils import load_model_ensemble_and_task_from_hf_hub\n",
    "from fairseq.models.text_to_speech.hub_interface import TTSHubInterface\n",
    "import IPython.display as ipd"
   ]
  },
  {
   "cell_type": "code",
   "execution_count": null,
   "id": "ececf33b-9207-4832-8e43-ff1ea530efed",
   "metadata": {},
   "outputs": [],
   "source": [
    "models, cfg, task = load_model_ensemble_and_task_from_hf_hub(\n",
    "    \"facebook/tts_transformer-fr-cv7_css10\",\n",
    "    arg_overrides={\"vocoder\": \"hifigan\", \"fp16\": False}\n",
    ")\n",
    "\n",
    "models = list(models)\n",
    "model = models[0]"
   ]
  },
  {
   "cell_type": "code",
   "execution_count": null,
   "id": "051216f9-4bd7-42f5-96c8-08ba8ddb202a",
   "metadata": {},
   "outputs": [],
   "source": [
    "TTSHubInterface.update_cfg_with_data_cfg(cfg, task.data_cfg)\n",
    "generator = task.build_generator(models, cfg)\n",
    "\n",
    "text = \"Bonjour, ceci est un test.\"\n",
    "\n",
    "sample = TTSHubInterface.get_model_input(task, text)\n",
    "wav, rate = TTSHubInterface.get_prediction(task, model, generator, sample)\n",
    "\n",
    "ipd.Audio(wav, rate=rate)"
   ]
  },
  {
   "cell_type": "code",
   "execution_count": null,
   "id": "d1fe8e5d-1186-4cf5-bc79-8fec91ac598b",
   "metadata": {},
   "outputs": [],
   "source": []
  }
 ],
 "metadata": {
  "kernelspec": {
   "display_name": "Python 3 (ipykernel)",
   "language": "python",
   "name": "python3"
  },
  "language_info": {
   "codemirror_mode": {
    "name": "ipython",
    "version": 3
   },
   "file_extension": ".py",
   "mimetype": "text/x-python",
   "name": "python",
   "nbconvert_exporter": "python",
   "pygments_lexer": "ipython3",
   "version": "3.11.6"
  }
 },
 "nbformat": 4,
 "nbformat_minor": 5
}
