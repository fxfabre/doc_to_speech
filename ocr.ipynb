{
 "cells": [
  {
   "cell_type": "code",
   "execution_count": 4,
   "id": "c92dd45a-5ab1-499a-bb5c-21cbfccf300d",
   "metadata": {},
   "source": [
    "from pathlib import Path\n",
    "from doctr.io import DocumentFile\n",
    "from doctr.models import ocr_predictor"
   ],
   "outputs": []
  },
  {
   "cell_type": "code",
   "execution_count": 2,
   "id": "8d7ed42e-ba29-44af-94ca-da9f118a9d6b",
   "metadata": {},
   "source": [
    "from doctr.models import ocr_predictor\n",
    "\n",
    "model = ocr_predictor(det_arch='db_resnet50', reco_arch='crnn_vgg16_bn', pretrained=True)"
   ],
   "outputs": []
  },
  {
   "cell_type": "code",
   "execution_count": 6,
   "id": "d46cbeed-713a-4854-8fae-714ae581a7bb",
   "metadata": {},
   "source": [
    "doc = DocumentFile.from_images(\"images/page.png\")\n",
    "result = model(doc)"
   ],
   "outputs": []
  },
  {
   "cell_type": "code",
   "execution_count": 7,
   "id": "93b68c1a-34bf-4e95-aea7-e16d5caf65f4",
   "metadata": {},
   "source": [
    "result"
   ],
   "outputs": []
  },
  {
   "cell_type": "code",
   "execution_count": null,
   "id": "39da2888-9332-4399-8238-d2f821031a30",
   "metadata": {},
   "source": [],
   "outputs": []
  }
 ],
 "metadata": {
  "kernelspec": {
   "display_name": "Python 3 (ipykernel)",
   "language": "python",
   "name": "python3"
  },
  "language_info": {
   "codemirror_mode": {
    "name": "ipython",
    "version": 3
   },
   "file_extension": ".py",
   "mimetype": "text/x-python",
   "name": "python",
   "nbconvert_exporter": "python",
   "pygments_lexer": "ipython3",
   "version": "3.11.6"
  }
 },
 "nbformat": 4,
 "nbformat_minor": 5
}
