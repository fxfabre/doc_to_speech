{
 "cells": [
  {
   "cell_type": "code",
   "execution_count": null,
   "id": "da46a341-f1a0-4bfa-8b99-53535f877ac9",
   "metadata": {
    "scrolled": true
   },
   "outputs": [],
   "source": [
    "import requests, scipy"
   ]
  },
  {
   "cell_type": "code",
   "execution_count": null,
   "id": "419fdee2-5b5c-48c3-960f-b55552359683",
   "metadata": {},
   "outputs": [],
   "source": [
    "body = {\n",
    "    \"language\": \"fr\",\n",
    "    \"text\": \"Ceci est un test de génération de parole.\"\n",
    "}\n",
    "response = requests.post(\"http://localhost:5000/api/v1/tts\", json=body)"
   ]
  },
  {
   "cell_type": "code",
   "execution_count": null,
   "id": "c7e231b1-11f8-4d10-929e-969a6e4bbba2",
   "metadata": {},
   "outputs": [],
   "source": [
    "response, response.text"
   ]
  },
  {
   "cell_type": "code",
   "execution_count": null,
   "id": "243cfe6c-352d-4a71-b460-be43adf70175",
   "metadata": {},
   "outputs": [],
   "source": [
    "scipy.io.wavfile.write(\n",
    "    \"sample.wav\",\n",
    "    rate=response.json()[\"rate\"],\n",
    "    data=np.array(response.json()[\"data\"])\n",
    ")"
   ]
  },
  {
   "cell_type": "code",
   "execution_count": null,
   "id": "bb13c3ba-e1bf-4797-98d8-a50182fe2695",
   "metadata": {},
   "outputs": [],
   "source": [
    "d = data=np.array(response.json()[\"data\"])\n",
    "d.dtype"
   ]
  },
  {
   "cell_type": "code",
   "execution_count": null,
   "id": "c3d04df3-17e0-4c98-a007-8d8e9593b383",
   "metadata": {},
   "outputs": [],
   "source": []
  }
 ],
 "metadata": {
  "kernelspec": {
   "display_name": "Python 3 (ipykernel)",
   "language": "python",
   "name": "python3"
  },
  "language_info": {
   "codemirror_mode": {
    "name": "ipython",
    "version": 3
   },
   "file_extension": ".py",
   "mimetype": "text/x-python",
   "name": "python",
   "nbconvert_exporter": "python",
   "pygments_lexer": "ipython3",
   "version": "3.11.6"
  }
 },
 "nbformat": 4,
 "nbformat_minor": 5
}
